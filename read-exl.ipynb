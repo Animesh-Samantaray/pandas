{
 "cells": [
  {
   "cell_type": "markdown",
   "id": "c746a3d4",
   "metadata": {},
   "source": [
    "# Reading data from EXCEL"
   ]
  },
  {
   "cell_type": "code",
   "execution_count": 12,
   "id": "82901456",
   "metadata": {},
   "outputs": [
    {
     "name": "stdout",
     "output_type": "stream",
     "text": [
      "      Name  Class Grade\n",
      "0     ppoo    122     A\n",
      "1  Isitlit     13     B\n",
      "2  denmark     12     A\n",
      "3   corrty     11     B\n"
     ]
    }
   ],
   "source": [
    "import pandas as pd\n",
    "import numpy as np\n",
    "\n",
    "data=pd.read_excel('Book1.xlsx')\n",
    "# data.to_string()\n",
    "data.iloc[0,0]='ppoo'\n",
    "data.iloc[0,1]=122\n",
    "print(data)\n"
   ]
  },
  {
   "cell_type": "markdown",
   "id": "c7c4f44d",
   "metadata": {},
   "source": [
    "## Adding new data to excel"
   ]
  },
  {
   "cell_type": "code",
   "execution_count": null,
   "id": "baea5449",
   "metadata": {},
   "outputs": [
    {
     "name": "stdout",
     "output_type": "stream",
     "text": [
      "    Unnamed: 0     Name  Class Grade\n",
      "0            0  Animesh     14     A\n",
      "1            1  Isitlit     13     B\n",
      "2            2  denmark     12     A\n",
      "3            3   corrty     11     B\n",
      "4            4   Suresh    100     a\n",
      "5            5   Rakesh    200     b\n",
      "6            6   Ramesh    300     c\n",
      "7            7    Virat    400     d\n",
      "8            8    Vijay    500     e\n",
      "9            9   Suresh    100     a\n",
      "10          10   Rakesh    200     b\n",
      "11          11   Ramesh    300     c\n",
      "12          12    Virat    400     d\n",
      "13          13    Vijay    500     e\n"
     ]
    }
   ],
   "source": [
    "data=pd.read_excel('Book1.xlsx')\n",
    "vl={\n",
    "    'Name':['Suresh','Rakesh','Ramesh','Virat','Vijay'],\n",
    "    'Class':[100,200,300,400,500],\n",
    "    'Grade':['a','b','c','d','e']\n",
    "}\n",
    "dt=pd.DataFrame(vl)\n",
    "data=pd.concat([data,dt],ignore_index=True)\n",
    "data.to_excel('Book1.xlsx',index=False)\n",
    "\n",
    "k=pd.read_excel('Book1.xlsx')\n",
    "print(k)"
   ]
  }
 ],
 "metadata": {
  "kernelspec": {
   "display_name": "Python 3",
   "language": "python",
   "name": "python3"
  },
  "language_info": {
   "codemirror_mode": {
    "name": "ipython",
    "version": 3
   },
   "file_extension": ".py",
   "mimetype": "text/x-python",
   "name": "python",
   "nbconvert_exporter": "python",
   "pygments_lexer": "ipython3",
   "version": "3.13.2"
  }
 },
 "nbformat": 4,
 "nbformat_minor": 5
}
