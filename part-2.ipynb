{
 "cells": [
  {
   "cell_type": "markdown",
   "id": "21b97a77",
   "metadata": {},
   "source": [
    "## creating a dataframe"
   ]
  },
  {
   "cell_type": "code",
   "execution_count": 4,
   "id": "dce9e529",
   "metadata": {},
   "outputs": [],
   "source": [
    "import pandas as pd\n",
    "import numpy as np"
   ]
  },
  {
   "cell_type": "code",
   "execution_count": 5,
   "id": "702f6f8a",
   "metadata": {},
   "outputs": [
    {
     "data": {
      "application/vnd.microsoft.datawrangler.viewer.v0+json": {
       "columns": [
        {
         "name": "index",
         "rawType": "int64",
         "type": "integer"
        },
        {
         "name": "a",
         "rawType": "float64",
         "type": "float"
        },
        {
         "name": "b",
         "rawType": "float64",
         "type": "float"
        },
        {
         "name": "c",
         "rawType": "float64",
         "type": "float"
        },
        {
         "name": "d",
         "rawType": "float64",
         "type": "float"
        }
       ],
       "conversionMethod": "pd.DataFrame",
       "ref": "280f8999-fe8e-41f6-912a-63e6ef1df06c",
       "rows": [
        [
         "0",
         "8.407099810004793",
         "48.30282062205809",
         "6.986785740188517",
         "84.285660949683"
        ],
        [
         "1",
         "78.4237670340845",
         "55.83262342567006",
         "77.31886133930003",
         "97.282294953116"
        ],
        [
         "2",
         "22.876810398516888",
         "46.42052980881207",
         "9.255905413815736",
         "67.24038055221222"
        ],
        [
         "3",
         "2.814499165244022",
         "32.98113091500699",
         "73.39983447959784",
         "79.664453899711"
        ],
        [
         "4",
         "21.94008245623963",
         "26.20087605104866",
         "31.73469589071597",
         "5.2540129807487235"
        ],
        [
         "5",
         "57.62049426423535",
         "51.90910717964221",
         "19.820467319275735",
         "48.442823929023845"
        ],
        [
         "6",
         "4.841738040910393",
         "76.77775033187868",
         "84.05868836248659",
         "10.120979295197186"
        ],
        [
         "7",
         "2.8555873931319975",
         "76.8517265422596",
         "18.8183320120937",
         "26.120896527255343"
        ],
        [
         "8",
         "35.98791531664458",
         "37.65937070176233",
         "89.7914750012506",
         "99.86822039426656"
        ],
        [
         "9",
         "58.3756030530985",
         "65.5011738800995",
         "20.18320987316564",
         "47.86376552977275"
        ]
       ],
       "shape": {
        "columns": 4,
        "rows": 10
       }
      },
      "text/html": [
       "<div>\n",
       "<style scoped>\n",
       "    .dataframe tbody tr th:only-of-type {\n",
       "        vertical-align: middle;\n",
       "    }\n",
       "\n",
       "    .dataframe tbody tr th {\n",
       "        vertical-align: top;\n",
       "    }\n",
       "\n",
       "    .dataframe thead th {\n",
       "        text-align: right;\n",
       "    }\n",
       "</style>\n",
       "<table border=\"1\" class=\"dataframe\">\n",
       "  <thead>\n",
       "    <tr style=\"text-align: right;\">\n",
       "      <th></th>\n",
       "      <th>a</th>\n",
       "      <th>b</th>\n",
       "      <th>c</th>\n",
       "      <th>d</th>\n",
       "    </tr>\n",
       "  </thead>\n",
       "  <tbody>\n",
       "    <tr>\n",
       "      <th>0</th>\n",
       "      <td>8.407100</td>\n",
       "      <td>48.302821</td>\n",
       "      <td>6.986786</td>\n",
       "      <td>84.285661</td>\n",
       "    </tr>\n",
       "    <tr>\n",
       "      <th>1</th>\n",
       "      <td>78.423767</td>\n",
       "      <td>55.832623</td>\n",
       "      <td>77.318861</td>\n",
       "      <td>97.282295</td>\n",
       "    </tr>\n",
       "    <tr>\n",
       "      <th>2</th>\n",
       "      <td>22.876810</td>\n",
       "      <td>46.420530</td>\n",
       "      <td>9.255905</td>\n",
       "      <td>67.240381</td>\n",
       "    </tr>\n",
       "    <tr>\n",
       "      <th>3</th>\n",
       "      <td>2.814499</td>\n",
       "      <td>32.981131</td>\n",
       "      <td>73.399834</td>\n",
       "      <td>79.664454</td>\n",
       "    </tr>\n",
       "    <tr>\n",
       "      <th>4</th>\n",
       "      <td>21.940082</td>\n",
       "      <td>26.200876</td>\n",
       "      <td>31.734696</td>\n",
       "      <td>5.254013</td>\n",
       "    </tr>\n",
       "    <tr>\n",
       "      <th>5</th>\n",
       "      <td>57.620494</td>\n",
       "      <td>51.909107</td>\n",
       "      <td>19.820467</td>\n",
       "      <td>48.442824</td>\n",
       "    </tr>\n",
       "    <tr>\n",
       "      <th>6</th>\n",
       "      <td>4.841738</td>\n",
       "      <td>76.777750</td>\n",
       "      <td>84.058688</td>\n",
       "      <td>10.120979</td>\n",
       "    </tr>\n",
       "    <tr>\n",
       "      <th>7</th>\n",
       "      <td>2.855587</td>\n",
       "      <td>76.851727</td>\n",
       "      <td>18.818332</td>\n",
       "      <td>26.120897</td>\n",
       "    </tr>\n",
       "    <tr>\n",
       "      <th>8</th>\n",
       "      <td>35.987915</td>\n",
       "      <td>37.659371</td>\n",
       "      <td>89.791475</td>\n",
       "      <td>99.868220</td>\n",
       "    </tr>\n",
       "    <tr>\n",
       "      <th>9</th>\n",
       "      <td>58.375603</td>\n",
       "      <td>65.501174</td>\n",
       "      <td>20.183210</td>\n",
       "      <td>47.863766</td>\n",
       "    </tr>\n",
       "  </tbody>\n",
       "</table>\n",
       "</div>"
      ],
      "text/plain": [
       "           a          b          c          d\n",
       "0   8.407100  48.302821   6.986786  84.285661\n",
       "1  78.423767  55.832623  77.318861  97.282295\n",
       "2  22.876810  46.420530   9.255905  67.240381\n",
       "3   2.814499  32.981131  73.399834  79.664454\n",
       "4  21.940082  26.200876  31.734696   5.254013\n",
       "5  57.620494  51.909107  19.820467  48.442824\n",
       "6   4.841738  76.777750  84.058688  10.120979\n",
       "7   2.855587  76.851727  18.818332  26.120897\n",
       "8  35.987915  37.659371  89.791475  99.868220\n",
       "9  58.375603  65.501174  20.183210  47.863766"
      ]
     },
     "execution_count": 5,
     "metadata": {},
     "output_type": "execute_result"
    }
   ],
   "source": [
    "arr=np.random.rand(10,4)*100\n",
    "df=pd.DataFrame(arr)\n",
    "df.columns=['a','b','c','d']\n",
    "df"
   ]
  },
  {
   "cell_type": "markdown",
   "id": "b3ebe195",
   "metadata": {},
   "source": [
    "## delete data from dataframe"
   ]
  },
  {
   "cell_type": "code",
   "execution_count": 6,
   "id": "5e9e0936",
   "metadata": {},
   "outputs": [
    {
     "data": {
      "application/vnd.microsoft.datawrangler.viewer.v0+json": {
       "columns": [
        {
         "name": "index",
         "rawType": "int64",
         "type": "integer"
        },
        {
         "name": "b",
         "rawType": "float64",
         "type": "float"
        },
        {
         "name": "c",
         "rawType": "float64",
         "type": "float"
        },
        {
         "name": "d",
         "rawType": "float64",
         "type": "float"
        }
       ],
       "conversionMethod": "pd.DataFrame",
       "ref": "732abed3-dd1b-4047-b239-9487c4ca2dd3",
       "rows": [
        [
         "0",
         "48.30282062205809",
         "6.986785740188517",
         "84.285660949683"
        ],
        [
         "1",
         "55.83262342567006",
         "77.31886133930003",
         "97.282294953116"
        ],
        [
         "2",
         "46.42052980881207",
         "9.255905413815736",
         "67.24038055221222"
        ],
        [
         "3",
         "32.98113091500699",
         "73.39983447959784",
         "79.664453899711"
        ],
        [
         "4",
         "26.20087605104866",
         "31.73469589071597",
         "5.2540129807487235"
        ],
        [
         "5",
         "51.90910717964221",
         "19.820467319275735",
         "48.442823929023845"
        ],
        [
         "6",
         "76.77775033187868",
         "84.05868836248659",
         "10.120979295197186"
        ],
        [
         "7",
         "76.8517265422596",
         "18.8183320120937",
         "26.120896527255343"
        ],
        [
         "8",
         "37.65937070176233",
         "89.7914750012506",
         "99.86822039426656"
        ],
        [
         "9",
         "65.5011738800995",
         "20.18320987316564",
         "47.86376552977275"
        ]
       ],
       "shape": {
        "columns": 3,
        "rows": 10
       }
      },
      "text/html": [
       "<div>\n",
       "<style scoped>\n",
       "    .dataframe tbody tr th:only-of-type {\n",
       "        vertical-align: middle;\n",
       "    }\n",
       "\n",
       "    .dataframe tbody tr th {\n",
       "        vertical-align: top;\n",
       "    }\n",
       "\n",
       "    .dataframe thead th {\n",
       "        text-align: right;\n",
       "    }\n",
       "</style>\n",
       "<table border=\"1\" class=\"dataframe\">\n",
       "  <thead>\n",
       "    <tr style=\"text-align: right;\">\n",
       "      <th></th>\n",
       "      <th>b</th>\n",
       "      <th>c</th>\n",
       "      <th>d</th>\n",
       "    </tr>\n",
       "  </thead>\n",
       "  <tbody>\n",
       "    <tr>\n",
       "      <th>0</th>\n",
       "      <td>48.302821</td>\n",
       "      <td>6.986786</td>\n",
       "      <td>84.285661</td>\n",
       "    </tr>\n",
       "    <tr>\n",
       "      <th>1</th>\n",
       "      <td>55.832623</td>\n",
       "      <td>77.318861</td>\n",
       "      <td>97.282295</td>\n",
       "    </tr>\n",
       "    <tr>\n",
       "      <th>2</th>\n",
       "      <td>46.420530</td>\n",
       "      <td>9.255905</td>\n",
       "      <td>67.240381</td>\n",
       "    </tr>\n",
       "    <tr>\n",
       "      <th>3</th>\n",
       "      <td>32.981131</td>\n",
       "      <td>73.399834</td>\n",
       "      <td>79.664454</td>\n",
       "    </tr>\n",
       "    <tr>\n",
       "      <th>4</th>\n",
       "      <td>26.200876</td>\n",
       "      <td>31.734696</td>\n",
       "      <td>5.254013</td>\n",
       "    </tr>\n",
       "    <tr>\n",
       "      <th>5</th>\n",
       "      <td>51.909107</td>\n",
       "      <td>19.820467</td>\n",
       "      <td>48.442824</td>\n",
       "    </tr>\n",
       "    <tr>\n",
       "      <th>6</th>\n",
       "      <td>76.777750</td>\n",
       "      <td>84.058688</td>\n",
       "      <td>10.120979</td>\n",
       "    </tr>\n",
       "    <tr>\n",
       "      <th>7</th>\n",
       "      <td>76.851727</td>\n",
       "      <td>18.818332</td>\n",
       "      <td>26.120897</td>\n",
       "    </tr>\n",
       "    <tr>\n",
       "      <th>8</th>\n",
       "      <td>37.659371</td>\n",
       "      <td>89.791475</td>\n",
       "      <td>99.868220</td>\n",
       "    </tr>\n",
       "    <tr>\n",
       "      <th>9</th>\n",
       "      <td>65.501174</td>\n",
       "      <td>20.183210</td>\n",
       "      <td>47.863766</td>\n",
       "    </tr>\n",
       "  </tbody>\n",
       "</table>\n",
       "</div>"
      ],
      "text/plain": [
       "           b          c          d\n",
       "0  48.302821   6.986786  84.285661\n",
       "1  55.832623  77.318861  97.282295\n",
       "2  46.420530   9.255905  67.240381\n",
       "3  32.981131  73.399834  79.664454\n",
       "4  26.200876  31.734696   5.254013\n",
       "5  51.909107  19.820467  48.442824\n",
       "6  76.777750  84.058688  10.120979\n",
       "7  76.851727  18.818332  26.120897\n",
       "8  37.659371  89.791475  99.868220\n",
       "9  65.501174  20.183210  47.863766"
      ]
     },
     "execution_count": 6,
     "metadata": {},
     "output_type": "execute_result"
    }
   ],
   "source": [
    "newDf=df\n",
    "newDf=df.drop('a',axis=1)\n",
    "newDf"
   ]
  },
  {
   "cell_type": "markdown",
   "id": "1f3bece8",
   "metadata": {},
   "source": [
    "## Access data from different rows and cols"
   ]
  },
  {
   "cell_type": "code",
   "execution_count": 7,
   "id": "f471683e",
   "metadata": {},
   "outputs": [
    {
     "name": "stderr",
     "output_type": "stream",
     "text": [
      "C:\\Users\\anime\\AppData\\Local\\Temp\\ipykernel_1792\\437220805.py:4: FutureWarning: Setting an item of incompatible dtype is deprecated and will raise an error in a future version of pandas. Value 'Animesh' has dtype incompatible with float64, please explicitly cast to a compatible dtype first.\n",
      "  df.loc[0,'a']='Animesh'\n"
     ]
    }
   ],
   "source": [
    "data=df.loc[:,['b','c',]]\n",
    "data\n",
    "data=df.loc[[0,2,4,6],:]\n",
    "df.loc[0,'a']='Animesh'\n"
   ]
  }
 ],
 "metadata": {
  "kernelspec": {
   "display_name": "Python 3",
   "language": "python",
   "name": "python3"
  },
  "language_info": {
   "codemirror_mode": {
    "name": "ipython",
    "version": 3
   },
   "file_extension": ".py",
   "mimetype": "text/x-python",
   "name": "python",
   "nbconvert_exporter": "python",
   "pygments_lexer": "ipython3",
   "version": "3.13.2"
  }
 },
 "nbformat": 4,
 "nbformat_minor": 5
}
