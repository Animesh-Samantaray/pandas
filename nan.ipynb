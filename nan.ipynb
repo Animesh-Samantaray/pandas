{
 "cells": [
  {
   "cell_type": "markdown",
   "id": "53212dd0",
   "metadata": {},
   "source": [
    "# creating dataframe having nan valaues"
   ]
  },
  {
   "cell_type": "code",
   "execution_count": 8,
   "id": "d8280a7f",
   "metadata": {},
   "outputs": [],
   "source": [
    "import pandas as pd\n",
    "import numpy as np"
   ]
  },
  {
   "cell_type": "code",
   "execution_count": 13,
   "id": "292e8604",
   "metadata": {},
   "outputs": [
    {
     "data": {
      "application/vnd.microsoft.datawrangler.viewer.v0+json": {
       "columns": [
        {
         "name": "index",
         "rawType": "int64",
         "type": "integer"
        },
        {
         "name": "Name",
         "rawType": "object",
         "type": "unknown"
        },
        {
         "name": "Score",
         "rawType": "float64",
         "type": "float"
        },
        {
         "name": "Join_Date",
         "rawType": "datetime64[ns]",
         "type": "datetime"
        }
       ],
       "conversionMethod": "pd.DataFrame",
       "ref": "3a507a09-96b9-4a83-a25b-f06462bf5ebc",
       "rows": [
        [
         "0",
         "Alice",
         "95.0",
         "2022-01-01 00:00:00"
        ],
        [
         "1",
         "Bob",
         null,
         null
        ],
        [
         "2",
         null,
         "85.0",
         "2023-05-17 00:00:00"
        ],
        [
         "3",
         "David",
         "92.0",
         null
        ]
       ],
       "shape": {
        "columns": 3,
        "rows": 4
       }
      },
      "text/html": [
       "<div>\n",
       "<style scoped>\n",
       "    .dataframe tbody tr th:only-of-type {\n",
       "        vertical-align: middle;\n",
       "    }\n",
       "\n",
       "    .dataframe tbody tr th {\n",
       "        vertical-align: top;\n",
       "    }\n",
       "\n",
       "    .dataframe thead th {\n",
       "        text-align: right;\n",
       "    }\n",
       "</style>\n",
       "<table border=\"1\" class=\"dataframe\">\n",
       "  <thead>\n",
       "    <tr style=\"text-align: right;\">\n",
       "      <th></th>\n",
       "      <th>Name</th>\n",
       "      <th>Score</th>\n",
       "      <th>Join_Date</th>\n",
       "    </tr>\n",
       "  </thead>\n",
       "  <tbody>\n",
       "    <tr>\n",
       "      <th>0</th>\n",
       "      <td>Alice</td>\n",
       "      <td>95.0</td>\n",
       "      <td>2022-01-01</td>\n",
       "    </tr>\n",
       "    <tr>\n",
       "      <th>1</th>\n",
       "      <td>Bob</td>\n",
       "      <td>NaN</td>\n",
       "      <td>NaT</td>\n",
       "    </tr>\n",
       "    <tr>\n",
       "      <th>2</th>\n",
       "      <td>NaN</td>\n",
       "      <td>85.0</td>\n",
       "      <td>2023-05-17</td>\n",
       "    </tr>\n",
       "    <tr>\n",
       "      <th>3</th>\n",
       "      <td>David</td>\n",
       "      <td>92.0</td>\n",
       "      <td>NaT</td>\n",
       "    </tr>\n",
       "  </tbody>\n",
       "</table>\n",
       "</div>"
      ],
      "text/plain": [
       "    Name  Score  Join_Date\n",
       "0  Alice   95.0 2022-01-01\n",
       "1    Bob    NaN        NaT\n",
       "2    NaN   85.0 2023-05-17\n",
       "3  David   92.0        NaT"
      ]
     },
     "execution_count": 13,
     "metadata": {},
     "output_type": "execute_result"
    }
   ],
   "source": [
    "\n",
    "df = pd.DataFrame({\n",
    "    'Name': ['Alice', 'Bob', np.nan, 'David'],\n",
    "    'Score': [95, np.nan, 85, 92],\n",
    "    'Join_Date': [pd.Timestamp('2022-01-01'), pd.NaT, pd.Timestamp('2023-05-17'), pd.NaT]\n",
    "})\n",
    "\n",
    "df.head()\n"
   ]
  },
  {
   "cell_type": "code",
   "execution_count": 11,
   "id": "a8a2cbf0",
   "metadata": {},
   "outputs": [
    {
     "data": {
      "application/vnd.microsoft.datawrangler.viewer.v0+json": {
       "columns": [
        {
         "name": "index",
         "rawType": "int64",
         "type": "integer"
        },
        {
         "name": "Name",
         "rawType": "object",
         "type": "string"
        },
        {
         "name": "Score",
         "rawType": "float64",
         "type": "float"
        },
        {
         "name": "Join_Date",
         "rawType": "datetime64[ns]",
         "type": "datetime"
        }
       ],
       "conversionMethod": "pd.DataFrame",
       "ref": "a2da97da-5797-4a2b-a9bc-40d97224da98",
       "rows": [
        [
         "0",
         "Alice",
         "95.0",
         "2022-01-01 00:00:00"
        ]
       ],
       "shape": {
        "columns": 3,
        "rows": 1
       }
      },
      "text/html": [
       "<div>\n",
       "<style scoped>\n",
       "    .dataframe tbody tr th:only-of-type {\n",
       "        vertical-align: middle;\n",
       "    }\n",
       "\n",
       "    .dataframe tbody tr th {\n",
       "        vertical-align: top;\n",
       "    }\n",
       "\n",
       "    .dataframe thead th {\n",
       "        text-align: right;\n",
       "    }\n",
       "</style>\n",
       "<table border=\"1\" class=\"dataframe\">\n",
       "  <thead>\n",
       "    <tr style=\"text-align: right;\">\n",
       "      <th></th>\n",
       "      <th>Name</th>\n",
       "      <th>Score</th>\n",
       "      <th>Join_Date</th>\n",
       "    </tr>\n",
       "  </thead>\n",
       "  <tbody>\n",
       "    <tr>\n",
       "      <th>0</th>\n",
       "      <td>Alice</td>\n",
       "      <td>95.0</td>\n",
       "      <td>2022-01-01</td>\n",
       "    </tr>\n",
       "  </tbody>\n",
       "</table>\n",
       "</div>"
      ],
      "text/plain": [
       "    Name  Score  Join_Date\n",
       "0  Alice   95.0 2022-01-01"
      ]
     },
     "execution_count": 11,
     "metadata": {},
     "output_type": "execute_result"
    }
   ],
   "source": [
    "df.dropna(inplace=True)#drop rows having any one nan value\n",
    "df"
   ]
  },
  {
   "cell_type": "markdown",
   "id": "f8ee12f4",
   "metadata": {},
   "source": [
    "# using HOW"
   ]
  },
  {
   "cell_type": "code",
   "execution_count": 26,
   "id": "8c94b1de",
   "metadata": {},
   "outputs": [
    {
     "data": {
      "application/vnd.microsoft.datawrangler.viewer.v0+json": {
       "columns": [
        {
         "name": "index",
         "rawType": "int64",
         "type": "integer"
        },
        {
         "name": "Name",
         "rawType": "object",
         "type": "unknown"
        },
        {
         "name": "Score",
         "rawType": "float64",
         "type": "float"
        },
        {
         "name": "Join_Date",
         "rawType": "datetime64[ns]",
         "type": "datetime"
        }
       ],
       "conversionMethod": "pd.DataFrame",
       "ref": "862fbb50-abef-4898-b09f-5b2724b79d30",
       "rows": [
        [
         "0",
         "Alice",
         "95.0",
         "2022-01-01 00:00:00"
        ],
        [
         "1",
         "Bob",
         null,
         null
        ],
        [
         "2",
         null,
         null,
         null
        ],
        [
         "3",
         "David",
         "92.0",
         null
        ]
       ],
       "shape": {
        "columns": 3,
        "rows": 4
       }
      },
      "text/html": [
       "<div>\n",
       "<style scoped>\n",
       "    .dataframe tbody tr th:only-of-type {\n",
       "        vertical-align: middle;\n",
       "    }\n",
       "\n",
       "    .dataframe tbody tr th {\n",
       "        vertical-align: top;\n",
       "    }\n",
       "\n",
       "    .dataframe thead th {\n",
       "        text-align: right;\n",
       "    }\n",
       "</style>\n",
       "<table border=\"1\" class=\"dataframe\">\n",
       "  <thead>\n",
       "    <tr style=\"text-align: right;\">\n",
       "      <th></th>\n",
       "      <th>Name</th>\n",
       "      <th>Score</th>\n",
       "      <th>Join_Date</th>\n",
       "    </tr>\n",
       "  </thead>\n",
       "  <tbody>\n",
       "    <tr>\n",
       "      <th>0</th>\n",
       "      <td>Alice</td>\n",
       "      <td>95.0</td>\n",
       "      <td>2022-01-01</td>\n",
       "    </tr>\n",
       "    <tr>\n",
       "      <th>1</th>\n",
       "      <td>Bob</td>\n",
       "      <td>NaN</td>\n",
       "      <td>NaT</td>\n",
       "    </tr>\n",
       "    <tr>\n",
       "      <th>2</th>\n",
       "      <td>NaN</td>\n",
       "      <td>NaN</td>\n",
       "      <td>NaT</td>\n",
       "    </tr>\n",
       "    <tr>\n",
       "      <th>3</th>\n",
       "      <td>David</td>\n",
       "      <td>92.0</td>\n",
       "      <td>NaT</td>\n",
       "    </tr>\n",
       "  </tbody>\n",
       "</table>\n",
       "</div>"
      ],
      "text/plain": [
       "    Name  Score  Join_Date\n",
       "0  Alice   95.0 2022-01-01\n",
       "1    Bob    NaN        NaT\n",
       "2    NaN    NaN        NaT\n",
       "3  David   92.0        NaT"
      ]
     },
     "execution_count": 26,
     "metadata": {},
     "output_type": "execute_result"
    }
   ],
   "source": [
    "# how-any used to update if any of row or col satisfy condition \n",
    "# how-all used to update if all the  row or col satisfy condition \n",
    "\n",
    "d = pd.DataFrame({\n",
    "    'Name': ['Alice', 'Bob', np.nan, 'David'],\n",
    "    'Score': [95, np.nan, np.nan, 92],\n",
    "    'Join_Date': [pd.Timestamp('2022-01-01'), pd.NaT, pd.NaT, pd.NaT],\n",
    "    'by':[np.nan,np.nan,np.nan,np.nan]\n",
    "})\n",
    "# d.head()\n",
    "d.dropna(how='all',axis=1)\n"
   ]
  },
  {
   "cell_type": "markdown",
   "id": "0adf1007",
   "metadata": {},
   "source": [
    "## Task-2"
   ]
  },
  {
   "cell_type": "code",
   "execution_count": 38,
   "id": "f99f969d",
   "metadata": {},
   "outputs": [
    {
     "data": {
      "text/plain": [
       "x    1.0\n",
       "y    1.0\n",
       "z    1.0\n",
       "dtype: float64"
      ]
     },
     "execution_count": 38,
     "metadata": {},
     "output_type": "execute_result"
    }
   ],
   "source": [
    "data={\n",
    "    'x':[1,2,3],\n",
    "    'y':[4,5,6],\n",
    "    'z':[7,8,9],\n",
    "}\n",
    "df=pd.DataFrame(data)\n",
    "df\n",
    "# df.min()#return min value of all the cols\n",
    "# df.describe()\n",
    "# df.mean()#return the mean values of all depending upon axis\n",
    "# df.corr()\n",
    "# df.count()\n",
    "# df.max()\n",
    "# df.median()\n",
    "df.std()"
   ]
  },
  {
   "cell_type": "code",
   "execution_count": null,
   "id": "8ed6080c",
   "metadata": {},
   "outputs": [],
   "source": []
  }
 ],
 "metadata": {
  "kernelspec": {
   "display_name": "Python 3",
   "language": "python",
   "name": "python3"
  },
  "language_info": {
   "codemirror_mode": {
    "name": "ipython",
    "version": 3
   },
   "file_extension": ".py",
   "mimetype": "text/x-python",
   "name": "python",
   "nbconvert_exporter": "python",
   "pygments_lexer": "ipython3",
   "version": "3.13.2"
  }
 },
 "nbformat": 4,
 "nbformat_minor": 5
}
